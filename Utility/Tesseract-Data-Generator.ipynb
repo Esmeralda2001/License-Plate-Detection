{
 "cells": [
  {
   "cell_type": "markdown",
   "metadata": {},
   "source": [
    "Notebook voor het genereren van data voor het trainen van Tesseract-OCR. De package 'trdg' is hiervoor zelf aangepast om data te genereren in kenteken format. "
   ]
  },
  {
   "cell_type": "code",
   "execution_count": 12,
   "metadata": {},
   "outputs": [
    {
     "name": "stdout",
     "output_type": "stream",
     "text": [
      "The pycodestyle_magic extension is already loaded. To reload it, use:\n",
      "  %reload_ext pycodestyle_magic\n",
      "The autoreload extension is already loaded. To reload it, use:\n",
      "  %reload_ext autoreload\n"
     ]
    }
   ],
   "source": [
    "%load_ext pycodestyle_magic\n",
    "%flake8_on --max_line_length 119\n",
    "%load_ext autoreload\n",
    "%autoreload 2"
   ]
  },
  {
   "cell_type": "code",
   "execution_count": 13,
   "metadata": {},
   "outputs": [],
   "source": [
    "import matplotlib.pyplot as plt\n",
    "import os\n",
    "import re\n",
    "import random\n",
    "import string\n",
    "import PIL\n",
    "from random import randrange"
   ]
  },
  {
   "cell_type": "code",
   "execution_count": 14,
   "metadata": {},
   "outputs": [],
   "source": [
    "path = r\"../DataSet/TesseractTraining/\""
   ]
  },
  {
   "cell_type": "code",
   "execution_count": 15,
   "metadata": {},
   "outputs": [],
   "source": [
    "def create_strings_randomly(count=10, let=True, num=True, lang='eng'):\n",
    "    \"\"\"\n",
    "    Create all strings by randomly sampling from a pool of characters.\n",
    "\n",
    "    :param count: amount of pictures to generate\n",
    "    :param let: wheter to use letters or not\n",
    "    :param num: whether to use numbers or not\n",
    "    :param lang: language\n",
    "\n",
    "    :type count: int\n",
    "    :type let: bool\n",
    "    :type num: bool\n",
    "    :type lang: string\n",
    "\n",
    "    :return strings: generated strings\n",
    "    :rtype strings: List of strings\n",
    "    \"\"\"\n",
    "\n",
    "    pool = \"\"\n",
    "    if let:\n",
    "        if lang == \"cn\":\n",
    "            pool += \"\".join(\n",
    "                [chr(i) for i in range(19968, 40908)]\n",
    "            )  # Unicode range of CHK characters\n",
    "        else:\n",
    "            pool += string.ascii_letters\n",
    "    if num:\n",
    "        pool += \"0123456789\"\n",
    "\n",
    "    strings = []\n",
    "    for _ in range(0, count):\n",
    "        current_string = \"-XXX-\"\n",
    "        front = randrange(1, 4)*\"X\"\n",
    "        back = randrange(1, 4)*\"X\"\n",
    "        current_string = front+current_string+back\n",
    "        current_string = list(current_string)\n",
    "        i = -1\n",
    "        for letter in current_string:\n",
    "            i += 1\n",
    "            if letter == \"-\":\n",
    "                continue\n",
    "            current_string[i] = random.choice(pool).upper()\n",
    "        current_string = \"\".join(current_string)\n",
    "        strings.append(current_string)\n",
    "    return strings"
   ]
  },
  {
   "cell_type": "code",
   "execution_count": 16,
   "metadata": {},
   "outputs": [],
   "source": [
    "def create_new_img(string, skewing_angle=0, blur=0):\n",
    "    \"\"\"\n",
    "    Creates a new image\n",
    "\n",
    "    :param string: string that will be on the picture\n",
    "    :param skewing_angle: maximum amount of skewing that can be added\n",
    "    :param blur: maximum amount of blur that can be added\n",
    "\n",
    "    :type string: string\n",
    "    :type skewing_angle: int\n",
    "    :type blur: int\n",
    "    \"\"\"\n",
    "    # Load image\n",
    "    img = PIL.Image.open(path+r\"plate_template/plate1.jpg\")\n",
    "    draw = PIL.ImageDraw.Draw(img)\n",
    "\n",
    "    # Set font size depending on length of string\n",
    "    if len(string) >= 10:\n",
    "        font = PIL.ImageFont.truetype(\"GIL_____.TTF\", 90)\n",
    "    else:\n",
    "        font = PIL.ImageFont.truetype(\"GIL_____.TTF\", 100)\n",
    "    width, height = img.size\n",
    "\n",
    "    # Draw the text\n",
    "    draw.text(((width/2)+20, (height/2)-10), string, (0, 0, 0), font=font, anchor=\"mm\")\n",
    "\n",
    "    # Random angle\n",
    "    random_angle = random.randint(0 - skewing_angle, skewing_angle)\n",
    "    img = img.rotate(random_angle)\n",
    "\n",
    "    # Random blurring\n",
    "    gaussian_filter = PIL.ImageFilter.GaussianBlur(random.randint(0, blur))\n",
    "    img = img.filter(gaussian_filter)\n",
    "\n",
    "    img.save(path+r\"plate_model_6-ground-truth/\"+string+\".png\")"
   ]
  },
  {
   "cell_type": "code",
   "execution_count": 17,
   "metadata": {},
   "outputs": [],
   "source": [
    "def plate_generator(count=10, skewing_angle=0, blur=0):\n",
    "    \"\"\"\n",
    "    :param count: amount of pictures to generate\n",
    "    :param skewing_angle: maximum amount of skewing that can be added\n",
    "    :param blur: maximum amount of blur that can be added\n",
    "\n",
    "    :type count: int\n",
    "    :type skewing_angle: int\n",
    "    :type blur: int\n",
    "    \"\"\"\n",
    "    strings = create_strings_randomly(count)\n",
    "    print(len(strings))\n",
    "\n",
    "    counter = 0\n",
    "    for string in strings:\n",
    "        counter += 1\n",
    "        if counter % 500 == 0:\n",
    "            print(\"Counter is at\", counter)\n",
    "\n",
    "        create_new_img(string, skewing_angle, blur)\n",
    "        text = re.sub(r'[^\\w]', ' ', string)\n",
    "        with open(path+r\"plate_model_6-ground-truth/\"+string+\".gt.txt\", \"w\") as text_file:\n",
    "            text_file.write(text)"
   ]
  },
  {
   "cell_type": "code",
   "execution_count": 18,
   "metadata": {},
   "outputs": [
    {
     "name": "stdout",
     "output_type": "stream",
     "text": [
      "5\n"
     ]
    }
   ],
   "source": [
    "plate_generator(count=5, skewing_angle=5, blur=5)"
   ]
  },
  {
   "cell_type": "markdown",
   "metadata": {},
   "source": [
    "# Bron\n",
    "https://github.com/Belval/TextRecognitionDataGenerator"
   ]
  }
 ],
 "metadata": {
  "kernelspec": {
   "display_name": "Python 3",
   "language": "python",
   "name": "python3"
  },
  "language_info": {
   "codemirror_mode": {
    "name": "ipython",
    "version": 3
   },
   "file_extension": ".py",
   "mimetype": "text/x-python",
   "name": "python",
   "nbconvert_exporter": "python",
   "pygments_lexer": "ipython3",
   "version": "3.7.3"
  }
 },
 "nbformat": 4,
 "nbformat_minor": 2
}
