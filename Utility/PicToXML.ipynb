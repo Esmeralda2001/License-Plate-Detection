{
 "cells": [
  {
   "cell_type": "markdown",
   "metadata": {},
   "source": [
    "# Utility Notebook Voor Datasets\n",
    "Dit notebook is specifiek bedoeld om foto's uit de CCPD2019 dataset (https://github.com/detectRecog/CCPD) om te zetten naar xml bestanden. \n",
    "De foto's worden tegelijkertijd hernoemd. "
   ]
  },
  {
   "cell_type": "code",
   "execution_count": 4,
   "metadata": {},
   "outputs": [],
   "source": [
    "import os\n",
    "import re\n",
    "import cv2\n",
    "from xml.etree import cElementTree as ElementTree"
   ]
  },
  {
   "cell_type": "markdown",
   "metadata": {},
   "source": [
    "Selecteer alle foto's uit het CCPD2019 dataset die je wilt gebruiken en verplaats deze naar de map 'TempFotos' (te vinden in Dataset\\TempDataSet). "
   ]
  },
  {
   "cell_type": "code",
   "execution_count": 5,
   "metadata": {},
   "outputs": [],
   "source": [
    "root_path = r'../Dataset/TempDataSet/'\n",
    "file_name = os.listdir(root_path)\n",
    "class_name = 'plate'\n",
    "xml_dir = root_path+\"/TempAnnots\"  # The directory where xml is saved"
   ]
  },
  {
   "cell_type": "code",
   "execution_count": 6,
   "metadata": {
    "scrolled": false
   },
   "outputs": [
    {
     "name": "stdout",
     "output_type": "stream",
     "text": [
      "end\n"
     ]
    }
   ],
   "source": [
    "for i in file_name:\n",
    "    file_name1 = os.listdir(os.path.join(root_path,i))\n",
    "    counter = 0 # change this number if you are increasing your dataset. if you're adding 100 extra foto's to a datset of 50,\n",
    "    # then change the number to start at 50. \n",
    "    for ii in file_name1:\n",
    "        counter += 1 \n",
    "        img = cv2.imread((root_path+i+'/'+ii))\n",
    "        height = img.shape[0]\n",
    "        width = img.shape[1]\n",
    "        depth = img.shape[2]\n",
    "        point = ii.split('.')[0].split('-')[3]  #\n",
    "        num = re.findall('\\d+\\d*',point) # Regular expression to extract values from a string\n",
    "        Xmin =min(num[0::2])  #　list[start:stop:step]\n",
    "        Ymin = min(num[1::2])\n",
    "        Xmax = max(num[0::2])\n",
    "        Ymax = max(num[1::2])\n",
    "        fname = ii.split('&')[0] + '&amp;'+ii.split('&')[1]+ '&amp;'+ii.split('&')[2]+ '&amp;'+ii.split('&')[3]+ '&amp;'+ii.split('&')[4]+ '&amp;'+ii.split('&')[5]+ '&amp;'+ii.split('&')[1]+ '&amp;'+ii.split('&')[6]\n",
    "        new_name = str(counter).zfill(5)\n",
    "        xml_str = \"<annotation>\\n\\t\\\n",
    "                <folder>\"+ i+ \"</folder>\\n\\t\\\n",
    "                <filename>\" + new_name +'.jpg' + \"</filename>\\n\\t\\\n",
    "                \" + \"<path>\" + r\"./Dataset/images/\"+new_name+'.jpg'+ \"</path>\\n\\t\\\n",
    "                <source>\\n\\t\\t\\\n",
    "                <database>Unknown</database>\\n\\t\\\n",
    "                </source>\\n\\t\\\n",
    "                <size>\\n\\t\\t\\\n",
    "                <width>\" + str(width) + \"</width>\\n\\t\\t\\\n",
    "                <height>\" + str(height) + \"</height>\\n\\t\\t\\\n",
    "                <depth>\" + str(depth) + \"</depth>\\n\\t\\\n",
    "                </size>\\n\\t\\\n",
    "                <segmented>0</segmented>\"\n",
    "        obj_str = \"\\n\\t\\\n",
    "                    <object>\\n\\t\\t\\\n",
    "                    <name>\" + class_name + \"</name>\\n\\t\\t\\\n",
    "                    <pose>Unspecified</pose>\\n\\t\\t\\\n",
    "                    <truncated>0</truncated>\\n\\t\\t\\\n",
    "                    <difficult>0</difficult>\\n\\t\\t\\\n",
    "                    <bndbox>\\n\\t\\t\\t\\\n",
    "                    <xmin>\" + str(Xmin) + \"</xmin>\\n\\t\\t\\t\\\n",
    "                    <ymin>\" + str(Ymin) + \"</ymin>\\n\\t\\t\\t\\\n",
    "                    <xmax>\" + str(Xmax) + \"</xmax>\\n\\t\\t\\t\\\n",
    "                    <ymax>\" + str(Ymax) + \"</ymax>\\n\\t\\t\\\n",
    "                    </bndbox>\\n\\t\\\n",
    "                    </object>\"\n",
    "        xml_str += obj_str\n",
    "        xml_str +=\"\\n</annotation>\\n\"\n",
    "        #print(ii.split('.')[0]+'.xml')\n",
    "        with open(xml_dir + '/'+new_name+'.xml','w') as f:\n",
    "            f.write(xml_str)\n",
    "            #print('Read and write successfully')\n",
    "            f.close()\n",
    "        src = r'../Dataset/TempDataSet/TempFotos/'+ii\n",
    "        pic_name = r'../Dataset/TempDataSet/TempFotos/'+new_name+'.jpg'\n",
    "        os.rename(src, pic_name)\n",
    "print('end')\n",
    "\n",
    "# source: https://www.programmersought.com/article/22976129791/"
   ]
  },
  {
   "cell_type": "markdown",
   "metadata": {},
   "source": [
    "# Error Detectie\n",
    "De CCPD2019 blijkt fouten te hebben in de x-max en x-min waardes waarbij de x-min soms groter is dan de x-max. De onderstaande code is bedoeld om xml files te vinden met deze fout. De gebruiker moet helaas handmatig de fouten er uit halen. "
   ]
  },
  {
   "cell_type": "code",
   "execution_count": 9,
   "metadata": {},
   "outputs": [],
   "source": [
    "class XmlDictConfig(dict):\n",
    "    '''\n",
    "    Example usage:\n",
    "\n",
    "    >>> tree = ElementTree.parse('your_file.xml')\n",
    "    >>> root = tree.getroot()\n",
    "    >>> xmldict = XmlDictConfig(root)\n",
    "\n",
    "    Or, if you want to use an XML string:\n",
    "\n",
    "    >>> root = ElementTree.XML(xml_string)\n",
    "    >>> xmldict = XmlDictConfig(root)\n",
    "\n",
    "    And then use xmldict for what it is... a dict.\n",
    "    '''\n",
    "    def __init__(self, parent_element):\n",
    "        if parent_element.items():\n",
    "            self.update(dict(parent_element.items()))\n",
    "        for element in parent_element:\n",
    "            if element:\n",
    "                # treat like dict - we assume that if the first two tags\n",
    "                # in a series are different, then they are all different.\n",
    "                if len(element) == 1 or element[0].tag != element[1].tag:\n",
    "                    aDict = XmlDictConfig(element)\n",
    "                # treat like list - we assume that if the first two tags\n",
    "                # in a series are the same, then the rest are the same.\n",
    "                else:\n",
    "                    # here, we put the list in dictionary; the key is the\n",
    "                    # tag name the list elements all share in common, and\n",
    "                    # the value is the list itself\n",
    "                    aDict = {element[0].tag: XmlListConfig(element)}\n",
    "                # if the tag has attributes, add those to the dict\n",
    "                if element.items():\n",
    "                    aDict.update(dict(element.items()))\n",
    "                self.update({element.tag: aDict})\n",
    "            # this assumes that if you've got an attribute in a tag,\n",
    "            # you won't be having any text. This may or may not be a\n",
    "            # good idea -- time will tell. It works for the way we are\n",
    "            # currently doing XML configuration files...\n",
    "            elif element.items():\n",
    "                self.update({element.tag: dict(element.items())})\n",
    "            # finally, if there are no child tags and no attributes, extract\n",
    "            # the text\n",
    "            else:\n",
    "                self.update({element.tag: element.text})\n",
    "\n",
    "# source: https://code.activestate.com/recipes/410469-xml-as-dictionary/"
   ]
  },
  {
   "cell_type": "code",
   "execution_count": 10,
   "metadata": {},
   "outputs": [],
   "source": [
    "path = \"../Dataset/TempDataSet/TempAnnots/\"\n",
    "files = os.listdir(path)\n",
    "for index, file in enumerate(files):\n",
    "    tree = ElementTree.parse(path+file)\n",
    "    root = tree.getroot()\n",
    "    xmldict = XmlDictConfig(root)\n",
    "\n",
    "    xmin = int(xmldict['object']['bndbox']['xmin'])\n",
    "    xmax = int(xmldict['object']['bndbox']['xmax'])\n",
    "\n",
    "    ymin = int(xmldict['object']['bndbox']['ymin'])\n",
    "    ymax = int(xmldict['object']['bndbox']['ymax'])\n",
    "\n",
    "    if xmin > xmax:\n",
    "        print(\"x\", file, xmin, xmax)\n",
    "\n",
    "    if ymin > ymax:\n",
    "        print(\"y\", file, ymin, ymax)"
   ]
  },
  {
   "cell_type": "markdown",
   "metadata": {},
   "source": [
    "Zodra alle files op orde zijn kan je de inhoud van TempFotos en TempAnnots verplaatsen naar TrainAndTest/images voor de fotos en TrainAndTest/annots voor de xmls. "
   ]
  },
  {
   "cell_type": "markdown",
   "metadata": {},
   "source": [
    "# Bronnen\n",
    "McGreggor, D. M. G. (2005, April 19). XML as Dictionary « Python recipes « ActiveState Code. ActiveState. https://code.activestate.com/recipes/410469-xml-as-dictionary/\n",
    "\n",
    "Generate annotation file (xml) from CCPD data set - Programmer Sought. (n.d.). ProgrammerSought. https://www.programmersought.com/article/22976129791/"
   ]
  }
 ],
 "metadata": {
  "kernelspec": {
   "display_name": "Python 3",
   "language": "python",
   "name": "python3"
  },
  "language_info": {
   "codemirror_mode": {
    "name": "ipython",
    "version": 3
   },
   "file_extension": ".py",
   "mimetype": "text/x-python",
   "name": "python",
   "nbconvert_exporter": "python",
   "pygments_lexer": "ipython3",
   "version": "3.7.3"
  }
 },
 "nbformat": 4,
 "nbformat_minor": 2
}
